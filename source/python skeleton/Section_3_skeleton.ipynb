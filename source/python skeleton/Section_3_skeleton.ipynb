{
 "cells": [
  {
   "cell_type": "markdown",
   "metadata": {},
   "source": [
    "# Section 3\n"
   ]
  },
  {
   "cell_type": "code",
   "execution_count": 20,
   "metadata": {},
   "outputs": [],
   "source": [
    "import cvxpy as cp\n",
    "import numpy as np\n",
    "import matplotlib.pyplot as plt\n",
    "\n",
    "class color:\n",
    "    PURPLE = '\\033[95m'\n",
    "    CYAN = '\\033[96m'\n",
    "    DARKCYAN = '\\033[36m'\n",
    "    BLUE = '\\033[94m'\n",
    "    GREEN = '\\033[92m'\n",
    "    YELLOW = '\\033[93m'\n",
    "    RED = '\\033[91m'\n",
    "    BOLD = '\\033[1m'\n",
    "    UNDERLINE = '\\033[4m'\n",
    "    END = '\\033[0m'"
   ]
  },
  {
   "cell_type": "markdown",
   "metadata": {},
   "source": [
    "## Question 3 \n",
    "Plot both X and conv(X)."
   ]
  },
  {
   "cell_type": "code",
   "execution_count": 21,
   "metadata": {},
   "outputs": [
    {
     "data": {
      "image/png": "[encoded data removed]",
      "text/plain": [
       "<Figure size 432x288 with 1 Axes>"
      ]
     },
     "metadata": {
      "needs_background": "light"
     },
     "output_type": "display_data"
    }
   ],
   "source": [
    "x_1 = np.linspace(0, 1, 1000)\n",
    "x_2 = np.linspace(0, 1, 1000)\n",
    "\n",
    "y_1 = 1 - x_1 \n",
    "\n",
    "\n",
    "# plot\n",
    "fig, ax = plt.subplots()\n",
    "\n",
    "plt.plot(x_1, y_1, label=r'$x_1 + x_2 \\leq 1$') # constraint 1\n",
    "\n",
    "plt.plot(0, 0, 'bo') \n",
    "plt.plot(0, 1, 'bo') \n",
    "plt.plot(1, 0, 'bo') \n",
    "\n",
    "plt.xlim((0, 1.5))\n",
    "plt.ylim((0, 1.5 ))\n",
    "plt.xlabel(r'$x_1$')\n",
    "plt.ylabel(r'$x_2$')\n",
    "\n",
    "# fill in the fesaible region\n",
    "plt.fill_between(x_1, 1- x_1, 0, where=(y_1 > 0), color='C0', alpha=0.3)\n",
    "\n",
    "\n",
    "plt.show()"
   ]
  },
  {
   "cell_type": "markdown",
   "metadata": {},
   "source": [
    "## Question 4"
   ]
  },
  {
   "cell_type": "markdown",
   "metadata": {},
   "source": [
    "Implement the the linear program obtained by using the convex hull. (Use the `GLPK` solver)"
   ]
  },
  {
   "cell_type": "code",
   "execution_count": 22,
   "metadata": {},
   "outputs": [
    {
     "data": {
      "text/plain": [
       "-2.0"
      ]
     },
     "execution_count": 22,
     "metadata": {},
     "output_type": "execute_result"
    }
   ],
   "source": [
    "# Define the variables \n",
    "x = cp.Variable((2,1))\n",
    "# a = cp.Variable((2,1), boolean=True)\n",
    "\n",
    "\n",
    "# Define the constraints \n",
    "c1 = np.array([[1],[1]])\n",
    "c2 = np.array([[0],[1]])\n",
    "c3 = np.array([[1],[0]])\n",
    "\n",
    "constraints = [\n",
    "    c1.T@x<=1, # x1 +x2 <=1\n",
    "    c2.T@x>=0, # x1 >= 0 \n",
    "    c3.T@x>=0, # x2 >= 0\n",
    "]\n",
    "\n",
    "o = np.array([[-1],[-2]]) # define o\n",
    "objective = cp.Minimize(o.T@x) # define the objective\n",
    "\n",
    "problem = cp.Problem(objective, constraints) # define the problem\n",
    "problem.solve(solver=cp.GLPK) # solve it\n",
    "\n"
   ]
  },
  {
   "cell_type": "code",
   "execution_count": 23,
   "metadata": {},
   "outputs": [
    {
     "data": {
      "text/plain": [
       "array([[0.],\n",
       "       [1.]])"
      ]
     },
     "execution_count": 23,
     "metadata": {},
     "output_type": "execute_result"
    }
   ],
   "source": [
    "x.value # Get the value "
   ]
  },
  {
   "cell_type": "code",
   "execution_count": 25,
   "metadata": {},
   "outputs": [
    {
     "name": "stdout",
     "output_type": "stream",
     "text": [
      "\u001b[1mOptimal Decision Variables:\u001b[0m\n",
      "x1: 0.0\n",
      "x2: 1.0\n"
     ]
    }
   ],
   "source": [
    "print(color.BOLD+'Optimal Decision Variables:'+color.END)\n",
    "print('x1: {}'.format(x.value[0, 0]))\n",
    "print('x2: {}'.format(x.value[1, 0]))"
   ]
  },
  {
   "cell_type": "code",
   "execution_count": null,
   "metadata": {},
   "outputs": [],
   "source": []
  }
 ],
 "metadata": {
  "kernelspec": {
   "display_name": "Python 3",
   "language": "python",
   "name": "python3"
  },
  "language_info": {
   "codemirror_mode": {
    "name": "ipython",
    "version": 3
   },
   "file_extension": ".py",
   "mimetype": "text/x-python",
   "name": "python",
   "nbconvert_exporter": "python",
   "pygments_lexer": "ipython3",
   "version": "3.7.6"
  }
 },
 "nbformat": 4,
 "nbformat_minor": 4
}
