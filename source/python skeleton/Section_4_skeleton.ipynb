{
 "cells": [
  {
   "cell_type": "markdown",
   "id": "b13a3f8e",
   "metadata": {},
   "source": [
    "# Section 4"
   ]
  },
  {
   "cell_type": "code",
   "execution_count": 1,
   "id": "f02328e3",
   "metadata": {},
   "outputs": [],
   "source": [
    "import cvxpy as cp\n",
    "import numpy as np\n",
    "import matplotlib.pyplot as plt\n",
    "import pandas as pd\n",
    "from sklearn.model_selection import train_test_split\n",
    "\n",
    "class color:\n",
    "    PURPLE = '\\033[95m'\n",
    "    CYAN = '\\033[96m'\n",
    "    DARKCYAN = '\\033[36m'\n",
    "    BLUE = '\\033[94m'\n",
    "    GREEN = '\\033[92m'\n",
    "    YELLOW = '\\033[93m'\n",
    "    RED = '\\033[91m'\n",
    "    BOLD = '\\033[1m'\n",
    "    UNDERLINE = '\\033[4m'\n",
    "    END = '\\033[0m'\n",
    "    \n",
    "T = 2\n",
    "C = np.array([[2000, 1000, 3000, 5000, 5000, 10000]]).T\n",
    "p = np.array([[0.2, 0.5, 0.5, 0.6, 0.8, 0.9]]).T"
   ]
  },
  {
   "cell_type": "markdown",
   "id": "f3f121a9",
   "metadata": {},
   "source": [
    "Implement the optimal hiding problem formulated in Question 5. (Use the `GLPK` solver)"
   ]
  },
  {
   "cell_type": "code",
   "execution_count": 82,
   "id": "571d4517",
   "metadata": {},
   "outputs": [],
   "source": [
    "# Function to solve LPs from previous question \n",
    "def solve_LP(C, p, T):\n",
    "   # d = X.shape[1]\n",
    "    I = C.shape[0]\n",
    "\n",
    "    # auxiliary variables:\n",
    "    Y_I1 = cp.Variable((1,1)) \n",
    "\n",
    "    # variables to solve:\n",
    "    X = cp.Variable((1, I))\n",
    "    Y = cp.Variable((1, I )) \n",
    "\n",
    "    # linear program:\n",
    "    prob = cp.Problem( cp.Minimize(T * Y_I1 + cp.sum(cp.multiply(1/p, Y ))), \n",
    "                      [\n",
    "    X <= C.T,\n",
    "    cp.sum(X) == 10000,\n",
    "    Y + Y_I1 >=  cp.multiply( p, X.T),\n",
    "    Y >= 0,\n",
    "    Y_I1 >= 0,                    \n",
    "    X >= 0,                                          \n",
    "    ])\n",
    "\n",
    "    # solve LP:\n",
    "    prob.solve(solver=cp.GLPK)\n",
    "    Y_opt = Y.value\n",
    "    X_opt = X.value\n",
    "    Y_val = Y_I1.value\n",
    "    \n",
    "    opt_value = prob.value\n",
    "    dual_value = prob.constraints[0].dual_value\n",
    "    return X_opt, Y_opt, Y_val, opt_value, dual_value "
   ]
  },
  {
   "cell_type": "code",
   "execution_count": 83,
   "id": "4764e5fe",
   "metadata": {},
   "outputs": [],
   "source": [
    "X_opt, Y_opt, Y_val,  opt_value, dual_value  = solve_LP(C, p, T)"
   ]
  },
  {
   "cell_type": "code",
   "execution_count": 85,
   "id": "be953356",
   "metadata": {},
   "outputs": [
    {
     "name": "stdout",
     "output_type": "stream",
     "text": [
      "\u001b[1mOptimal hiding plan\u001b[0m\n",
      "[[2000.        ]\n",
      " [1000.        ]\n",
      " [2322.58064516]\n",
      " [1935.48387097]\n",
      " [1451.61290323]\n",
      " [1290.32258065]]\n",
      "\n",
      "\n",
      "\u001b[1mWorst amount of money lost\u001b[0m\n",
      "2322.5806451612902\n"
     ]
    },
    {
     "name": "stderr",
     "output_type": "stream",
     "text": [
      "/Users/aurelien/opt/anaconda3/lib/python3.7/site-packages/ipykernel/ipkernel.py:287: DeprecationWarning: `should_run_async` will not call `transform_cell` automatically in the future. Please pass the result to `transformed_cell` argument and any exception that happen during thetransform in `preprocessing_exc_tuple` in IPython 7.17 and above.\n",
      "  and should_run_async(code)\n"
     ]
    }
   ],
   "source": [
    "print(color.BOLD + 'Optimal hiding plan' + color.END)\n",
    "print( '{}'.format(X_opt.T))\n",
    "print('\\n')\n",
    "print(color.BOLD + 'Worst amount of money lost' + color.END)\n",
    "print('{}'.format(opt_value))"
   ]
  },
  {
   "cell_type": "code",
   "execution_count": null,
   "id": "c52d9825",
   "metadata": {},
   "outputs": [],
   "source": []
  }
 ],
 "metadata": {
  "kernelspec": {
   "display_name": "Python 3",
   "language": "python",
   "name": "python3"
  },
  "language_info": {
   "codemirror_mode": {
    "name": "ipython",
    "version": 3
   },
   "file_extension": ".py",
   "mimetype": "text/x-python",
   "name": "python",
   "nbconvert_exporter": "python",
   "pygments_lexer": "ipython3",
   "version": "3.7.6"
  }
 },
 "nbformat": 4,
 "nbformat_minor": 5
}
