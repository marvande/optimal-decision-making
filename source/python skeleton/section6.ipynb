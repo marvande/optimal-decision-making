{
 "cells": [
  {
   "cell_type": "markdown",
   "metadata": {},
   "source": [
    "# Section 6: No More Toy-Examples/Optimization Prize\n",
    "\n",
    "Dataset of insurance charges in the US. Link to [dataset](https://www.kaggle.com/mirichoi0218/insurance)"
   ]
  },
  {
   "cell_type": "markdown",
   "metadata": {},
   "source": [
    "## Set-up:"
   ]
  },
  {
   "cell_type": "code",
   "execution_count": null,
   "metadata": {},
   "outputs": [],
   "source": [
    "import pandas as pd\n",
    "import numpy as np\n",
    "import cvxpy as cp\n",
    "\n",
    "import matplotlib.pyplot as plt\n",
    "%matplotlib inline\n",
    "from sklearn.model_selection import train_test_split\n",
    "from sklearn.metrics import mean_absolute_error\n",
    "import seaborn as sns\n",
    "import math"
   ]
  },
  {
   "cell_type": "code",
   "execution_count": null,
   "metadata": {},
   "outputs": [],
   "source": [
    "class color:\n",
    "    PURPLE = '\\033[95m'\n",
    "    CYAN = '\\033[96m'\n",
    "    DARKCYAN = '\\033[36m'\n",
    "    BLUE = '\\033[94m'\n",
    "    GREEN = '\\033[92m'\n",
    "    YELLOW = '\\033[93m'\n",
    "    RED = '\\033[91m'\n",
    "    BOLD = '\\033[1m'\n",
    "    UNDERLINE = '\\033[4m'\n",
    "    END = '\\033[0m'"
   ]
  },
  {
   "cell_type": "code",
   "execution_count": null,
   "metadata": {},
   "outputs": [],
   "source": [
    "SMALL_SIZE = 16\n",
    "MEDIUM_SIZE = 18\n",
    "BIGGER_SIZE = 24\n",
    "\n",
    "plt.rc('font', size=MEDIUM_SIZE)  # controls default text sizes\n",
    "plt.rc('axes', titlesize=BIGGER_SIZE)  # fontsize of the axes title\n",
    "plt.rc('axes', labelsize=BIGGER_SIZE)  # fontsize of the x and y labels\n",
    "plt.rc('xtick', labelsize=MEDIUM_SIZE)  # fontsize of the tick labels\n",
    "plt.rc('ytick', labelsize=MEDIUM_SIZE)  # fontsize of the tick labels\n",
    "plt.rc('legend', fontsize=MEDIUM_SIZE)  # legend fontsize\n",
    "plt.rc('figure', titlesize=BIGGER_SIZE)  # fontsize of the figure title"
   ]
  },
  {
   "cell_type": "markdown",
   "metadata": {},
   "source": [
    "## Data pre-processing:"
   ]
  },
  {
   "cell_type": "code",
   "execution_count": null,
   "metadata": {},
   "outputs": [],
   "source": [
    "df = pd.read_csv('../../data/insurance.csv')\n",
    "df.head(5)"
   ]
  },
  {
   "cell_type": "markdown",
   "metadata": {},
   "source": [
    "## Regression:"
   ]
  },
  {
   "cell_type": "code",
   "execution_count": null,
   "metadata": {},
   "outputs": [],
   "source": [
    "# function from section 2\n",
    "def get_MAE(theta, X, y):\n",
    "    ypred = X@theta.T\n",
    "    mae = np.average(np.abs(ypred - y), axis=0)\n",
    "    \n",
    "    # compare to MAE from sklearn:\n",
    "    mae_sklr = mean_absolute_error(X@theta.T, y)\n",
    "    assert(math.isclose(mae, mae_sklr))\n",
    "    return mae"
   ]
  },
  {
   "cell_type": "code",
   "execution_count": null,
   "metadata": {},
   "outputs": [],
   "source": [
    "# Function to solve LPs from section 2 (mae penalized regression)\n",
    "def solve_LP1(X, Y, lambda_):\n",
    "    d = X.shape[1]\n",
    "    N = X.shape[0]\n",
    "\n",
    "    # auxiliary variables:\n",
    "    Z = cp.Variable((N, 1))\n",
    "    delta = cp.Variable((d, 1))\n",
    "\n",
    "    # variable to solve:\n",
    "    theta = cp.Variable((1, d))\n",
    "\n",
    "    # linear program:\n",
    "    prob = cp.Problem(cp.Minimize(cp.sum(Z) + lambda_ * cp.sum(delta)), [\n",
    "        Y - X @ theta.T <= Z, -Y + X @ theta.T <= Z, theta <= delta,\n",
    "        -theta <= delta\n",
    "    ])\n",
    "\n",
    "    # solve LP:\n",
    "    prob.solve(solver=cp.GLPK)\n",
    "    theta_opt = theta.value\n",
    "    opt_value = prob.value\n",
    "    dual_value = prob.constraints[0].dual_value\n",
    "    return theta_opt, opt_value, dual_value "
   ]
  },
  {
   "cell_type": "code",
   "execution_count": null,
   "metadata": {},
   "outputs": [],
   "source": [
    "# Function to solve LPs from section 4 (adversarial training)\n",
    "def solve_LP2(X, Y, lambda_, k):\n",
    "    d = X.shape[1]\n",
    "    N = X.shape[0]\n",
    "\n",
    "    # auxiliary variables:\n",
    "    Beta = cp.Variable((N, 1))\n",
    "    b = cp.Variable((d, 1))\n",
    "    alpha = cp.Variable((1,1))\n",
    "\n",
    "    # variables to solve:\n",
    "    theta = cp.Variable((1, d))\n",
    "\n",
    "    # linear program:\n",
    "    prob = cp.Problem( cp.Minimize(k * alpha + cp.sum(Beta) + lambda_ * cp.sum(b)), \n",
    "                      [\n",
    "        alpha + Beta >= 1/k * (Y - X @ theta.T),\n",
    "        alpha + Beta >= -1/k * (Y - X @ theta.T),\n",
    "        Beta >= 0,\n",
    "        -b <= theta,\n",
    "        theta <= b\n",
    "    ])\n",
    "\n",
    "    # solve LP:\n",
    "    prob.solve(solver=cp.GLPK)\n",
    "    theta_opt = theta.value\n",
    "    alpha_opt = b.value\n",
    "    \n",
    "    opt_value = prob.value\n",
    "    dual_value = prob.constraints[0].dual_value\n",
    "    return theta_opt,  opt_value, dual_value "
   ]
  },
  {
   "cell_type": "markdown",
   "metadata": {},
   "source": [
    "### Prepare data:"
   ]
  },
  {
   "cell_type": "code",
   "execution_count": null,
   "metadata": {
    "run_control": {
     "marked": true
    }
   },
   "outputs": [],
   "source": [
    "df = pd.read_csv('../../data/insurance.csv')\n",
    "\n",
    "# make text columns into numerical vaulues:\n",
    "sex = {'female':1, 'male':0}\n",
    "regions = {'northeast':0, 'northwest':1, 'southeast':2, 'southwest':3}\n",
    "smoker = {'yes':1, 'no':0}\n",
    "df['sex'] = df['sex'].apply(lambda x: sex[x]).astype(\"category\")\n",
    "df['region'] = df['region'].apply(lambda x: regions[x]).astype(\"category\")\n",
    "df['smoker']= df['smoker'].apply(lambda x: smoker[x]).astype(\"category\")\n",
    "df.head(4)"
   ]
  },
  {
   "cell_type": "code",
   "execution_count": null,
   "metadata": {},
   "outputs": [],
   "source": [
    "## Split into train-test set:\n",
    "X = pd.DataFrame(df[['age', 'sex', 'bmi', 'children', 'smoker', 'region']])\n",
    "y = df['charges']\n",
    "X_train, X_test, y_train, y_test = train_test_split(X,\n",
    "                                                    np.expand_dims(y, 1),\n",
    "                                                    test_size=0.5,\n",
    "                                                    random_state=0)\n",
    "\n",
    "# Add bias column to data:\n",
    "X_train = np.concatenate((X_train, np.ones((X_train.shape[0], 1))), axis=1)\n",
    "X_test = np.concatenate((X_test, np.ones((X_test.shape[0], 1))), axis=1)"
   ]
  },
  {
   "cell_type": "markdown",
   "metadata": {},
   "source": [
    "### Lasso regression with cross-validation: "
   ]
  },
  {
   "cell_type": "code",
   "execution_count": null,
   "metadata": {},
   "outputs": [],
   "source": [
    "# Hyperparameters:\n",
    "lambda_ = np.logspace(-5, -1, 50, base=10)"
   ]
  },
  {
   "cell_type": "code",
   "execution_count": null,
   "metadata": {},
   "outputs": [],
   "source": [
    "X = pd.DataFrame(df[['age', 'sex', 'bmi', 'children', 'smoker', 'region']])\n",
    "y = df['charges']\n",
    "\n",
    "# 75% split:\n",
    "X_train, X_test, Y_train, Y_test = train_test_split(X,\n",
    "                                                    np.expand_dims(y, 1),\n",
    "                                                    test_size=0.25,\n",
    "                                                    random_state=0)\n",
    "# Add bias column to data:\n",
    "X_train = np.concatenate((X_train, np.ones((X_train.shape[0], 1))), axis=1)\n",
    "X_test = np.concatenate((X_test, np.ones((X_test.shape[0], 1))), axis=1)\n",
    "\n",
    "e_train, e_val, thetas, opt_val = [], [], [], []\n",
    "\n",
    "# Cross-validation for 50 values of lambda:\n",
    "for l in lambda_:\n",
    "    theta_opt, opt_value, dual_value = solve_LP1(X_train, Y_train, l)\n",
    "\n",
    "    #k = math.floor(0.75 * X_train.shape[0])\n",
    "    #theta_opt2, opt_value2, dual_value2 = solve_LP2(X_train, Y_train, l, k)\n",
    "\n",
    "    thetas.append(theta_opt)\n",
    "    opt_val.append(opt_value)\n",
    "\n",
    "    # evaluate on training set:\n",
    "    e_train.append(get_MAE(theta_opt, X_train, Y_train))\n",
    "    # evaluate on validation set:\n",
    "    e_val.append(get_MAE(theta_opt, X_test, Y_test))\n",
    "\n",
    "# take hyperparameter with smallest validation error:\n",
    "best_lambda = lambda_[np.argmin(e_val)]\n",
    "best_theta = thetas[np.argmin(e_val)]\n",
    "best_value = opt_val[np.argmin(e_val)]\n",
    "\n",
    "print('---Optimal values--')\n",
    "print(f'Optimal lambda: {best_lambda}')\n",
    "print(f'Optimal value: {best_value}')\n",
    "print(f'Optimal theta:\\n {best_theta}')"
   ]
  },
  {
   "cell_type": "code",
   "execution_count": null,
   "metadata": {},
   "outputs": [],
   "source": [
    "print(color.BOLD + 'Training Results' + color.END)\n",
    "print('MAE: {}'.format(get_MAE(best_theta, X_train, Y_train)))\n",
    "print('\\n')\n",
    "print(color.BOLD + 'Test Results' + color.END)\n",
    "print('MAE: {}'.format(get_MAE(best_theta, X_test, Y_test)))"
   ]
  },
  {
   "cell_type": "code",
   "execution_count": null,
   "metadata": {},
   "outputs": [],
   "source": [
    "fig, ax = plt.subplots(1)\n",
    "ax.plot(lambda_, e_val, label = 'validation error')\n",
    "\n",
    "ax.set_xscale('log')\n",
    "plt.title('Validation error for different hyperparameters')\n",
    "ax.set_xlabel('Lambda')\n",
    "ax.set_ylabel('Validation error')\n",
    "plt.legend()"
   ]
  },
  {
   "cell_type": "markdown",
   "metadata": {},
   "source": [
    "### Linear regression in 2D: "
   ]
  },
  {
   "cell_type": "code",
   "execution_count": null,
   "metadata": {},
   "outputs": [],
   "source": [
    "df = pd.read_csv('../../data/insurance.csv')\n",
    "\n",
    "# make text columns categorical:\n",
    "sex = {'female': 1, 'male': 0}\n",
    "regions = {'northeast': 0, 'northwest': 1, 'southeast': 2, 'southwest': 3}\n",
    "smoker = {'yes': 1, 'no': 0}\n",
    "\n",
    "df['sex'] = df['sex'].astype(\"category\")\n",
    "df['region'] = df['region'].astype(\"category\")\n",
    "df['smoker'] = df['smoker'].astype(\"category\")\n",
    "df['children'] = df['children'].astype(\"category\")\n",
    "df.head(4)"
   ]
  },
  {
   "cell_type": "code",
   "execution_count": null,
   "metadata": {},
   "outputs": [],
   "source": [
    "def cross_validation(X_train, X_test, y_train, y_test, kind = 'mae'):\n",
    "    e_train, e_val, thetas, opt_val = [], [], [], []\n",
    "\n",
    "    # Hyperparameters:\n",
    "    lambda_ = np.logspace(-5, -1, 20, base = 10)\n",
    "\n",
    "    # Cross-validation for 50 values of lambda:\n",
    "    for l in lambda_:\n",
    "        \n",
    "        if kind == 'minmax':\n",
    "            k = math.floor(0.75 * X_train.shape[0])\n",
    "            theta_opt, opt_value, dual_value = solve_LP2(X_train, y_train, l, k)\n",
    "        else:\n",
    "            theta_opt, opt_value, dual_value = solve_LP1(X_train, y_train, l)\n",
    "        thetas.append(theta_opt)\n",
    "        opt_val.append(opt_value)\n",
    "\n",
    "        # evaluate on training set:\n",
    "        e_train.append(get_MAE(theta_opt, X_train, y_train))\n",
    "        \n",
    "        # evaluate on validation set:\n",
    "        e_val.append(get_MAE(theta_opt, X_test, y_test))\n",
    "\n",
    "    # take hyperparameter with smallest validation error:\n",
    "    best_lambda = lambda_[np.argmin(e_val)]\n",
    "    best_theta = thetas[np.argmin(e_val)]\n",
    "    best_value = opt_val[np.argmin(e_val)]\n",
    "\n",
    "    print('---Optimal values--')\n",
    "    print(f'Optimal lambda: {best_lambda}')\n",
    "    print(f'Optimal value: {best_value}')\n",
    "    print(f'Optimal theta:\\n {best_theta}')\n",
    "    return best_lambda, best_theta, best_value, e_val"
   ]
  },
  {
   "cell_type": "code",
   "execution_count": null,
   "metadata": {},
   "outputs": [],
   "source": [
    "## Split into train-test set:\n",
    "X = pd.DataFrame(df[['age', 'sex', 'bmi', 'children', 'smoker', 'region']])\n",
    "X_train, X_test, y_train, y_test = train_test_split(X,\n",
    "                                                    np.expand_dims(\n",
    "                                                        df['charges'], 1),\n",
    "                                                    test_size=0.25,\n",
    "                                                    random_state=0)\n",
    "# Add bias column to data:\n",
    "X_train = np.concatenate((X_train, np.ones((X_train.shape[0], 1))), axis=1)\n",
    "X_test = np.concatenate((X_test, np.ones((X_test.shape[0], 1))), axis=1)\n",
    "\n",
    "# create dataframes for plots:\n",
    "df_train = pd.DataFrame(\n",
    "    data=X_train,\n",
    "    columns=['age', 'sex', 'bmi', 'children', 'smoker', 'region', 'bias'])\n",
    "df_train = pd.concat([df_train, pd.DataFrame(y_train)], axis=1)\n",
    "df_train.rename(columns={0: \"charges\"}, inplace=True)\n",
    "df_test = pd.DataFrame(\n",
    "    data=X_test,\n",
    "    columns=['age', 'sex', 'bmi', 'children', 'smoker', 'region', 'bias'])\n",
    "df_test = pd.concat([df_test, pd.DataFrame(y_test)], axis=1)\n",
    "df_test.rename(columns={0: \"charges\"}, inplace=True)"
   ]
  },
  {
   "cell_type": "markdown",
   "metadata": {},
   "source": [
    "#### Predict charges from bmi:"
   ]
  },
  {
   "cell_type": "code",
   "execution_count": null,
   "metadata": {},
   "outputs": [],
   "source": [
    "# Cross-validation:\n",
    "#model 1:\n",
    "print('Mae penalized regression:')\n",
    "best_lambda, best_theta, best_value, e_val = cross_validation(\n",
    "    df_train[['bmi', 'bias']].values, df_test[['bmi', 'bias']].values, y_train,\n",
    "    y_test)\n",
    "#model 2:\n",
    "print('Adversarial model regression:')\n",
    "best_lambda2, best_theta2, best_value2, e_val2 = cross_validation(\n",
    "    df_train[['bmi', 'bias']].values,\n",
    "    df_test[['bmi', 'bias']].values,\n",
    "    y_train,\n",
    "    y_test,\n",
    "    kind='minmax')"
   ]
  },
  {
   "cell_type": "code",
   "execution_count": null,
   "metadata": {},
   "outputs": [],
   "source": [
    "x_train = df_train[['bmi', 'bias']].values\n",
    "x_test = df_test[['bmi', 'bias']].values\n",
    "\n",
    "ypred1, ypred2 = [], []\n",
    "for i in range(len(x_train)):\n",
    "    ypred1.append(best_theta @ x_train[i, :])\n",
    "    ypred2.append(best_theta2 @ x_train[i, :])"
   ]
  },
  {
   "cell_type": "markdown",
   "metadata": {},
   "source": [
    "Plot predictions:"
   ]
  },
  {
   "cell_type": "code",
   "execution_count": null,
   "metadata": {},
   "outputs": [],
   "source": [
    "fig, axs = plt.subplots(1, 5, figsize=(25, 8))\n",
    "lambda_ = np.logspace(-5, -1, 20, base=10)\n",
    "\n",
    "hues = ['sex', 'smoker', 'region', 'children']\n",
    "for i in range(len(hues) + 1):\n",
    "    if i < 4:\n",
    "        axs[i].set_title(f'{hues[i]}')\n",
    "        axs[i].plot(df_train['bmi'], ypred1, label='model 1', color='red')\n",
    "        axs[i].plot(df_train['bmi'], ypred2, label='model 2', color='blue')\n",
    "        sns.scatterplot(data=df_train,\n",
    "                        x='bmi',\n",
    "                        y='charges',\n",
    "                        hue=hues[i],\n",
    "                        ax=axs[i])\n",
    "        axs[i].set_xlabel('bmi')\n",
    "        axs[i].ticklabel_format(axis='y', style='sci', scilimits=(0, 0))\n",
    "    if i > 0:\n",
    "        axs[i].set_ylabel('')\n",
    "    else:\n",
    "        axs[i].set_ylabel('insurance charges')\n",
    "\n",
    "    if i == 4:\n",
    "        axs[i].plot(lambda_, e_val, label='model 1', color='red')\n",
    "        axs[i].plot(lambda_, e_val2, label='model 2', color='blue')\n",
    "        pos = list(lambda_).index(best_lambda)\n",
    "        val = e_val[pos]\n",
    "        axs[i].plot(best_lambda, val, 'x')\n",
    "        axs[i].set_xscale('log')\n",
    "        axs[i].set_title('Validation error')\n",
    "        axs[i].set_xlabel('Lambda')\n",
    "        axs[i].set_ylabel('')\n",
    "        axs[i].tick_params(axis=\"y\", direction=\"in\", pad=-90)\n",
    "    axs[i].legend()"
   ]
  },
  {
   "cell_type": "markdown",
   "metadata": {},
   "source": [
    "#### Predict charges from age:"
   ]
  },
  {
   "cell_type": "code",
   "execution_count": null,
   "metadata": {},
   "outputs": [],
   "source": [
    "# Cross-validation:\n",
    "print('Mae penalized regression:')\n",
    "best_lambda, best_theta, best_value, e_val = cross_validation(\n",
    "    df_train[['age', 'bias']].values, df_test[['age', 'bias']].values, y_train,\n",
    "    y_test)\n",
    "\n",
    "print('Adversarial model regression:')\n",
    "best_lambda2, best_theta2, best_value2, e_val2 = cross_validation(\n",
    "    df_train[['age', 'bias']].values,\n",
    "    df_test[['age', 'bias']].values,\n",
    "    y_train,\n",
    "    y_test,\n",
    "    kind='minmax')"
   ]
  },
  {
   "cell_type": "code",
   "execution_count": null,
   "metadata": {},
   "outputs": [],
   "source": [
    "x_train = df_train[['age', 'bias']].values\n",
    "x_test = df_test[['age', 'bias']].values\n",
    "\n",
    "ypred1, ypred2 = [], []\n",
    "for i in range(len(x_train)):\n",
    "    ypred1.append(best_theta @ x_train[i, :])\n",
    "    ypred2.append(best_theta2 @ x_train[i, :])"
   ]
  },
  {
   "cell_type": "markdown",
   "metadata": {},
   "source": [
    "Plot results:"
   ]
  },
  {
   "cell_type": "code",
   "execution_count": null,
   "metadata": {},
   "outputs": [],
   "source": [
    "fig, axs = plt.subplots(1, 5, figsize=(25, 8))\n",
    "lambda_ = np.logspace(-5, -1, 20, base=10)\n",
    "\n",
    "hues = ['sex', 'smoker', 'region', 'children']\n",
    "for i in range(len(hues) + 1):\n",
    "    if i < 4:\n",
    "        axs[i].set_title(f'{hues[i]}')\n",
    "        axs[i].plot(df_train['age'], ypred1, label='model 1', color='red')\n",
    "        axs[i].plot(df_train['age'], ypred2, label='model 2', color='blue')\n",
    "        sns.scatterplot(data=df_train,\n",
    "                        x='age',\n",
    "                        y='charges',\n",
    "                        hue=hues[i],\n",
    "                        ax=axs[i])\n",
    "        axs[i].set_xlabel('age')\n",
    "        axs[i].ticklabel_format(axis='y', style='sci', scilimits=(0, 0))\n",
    "    if i > 0:\n",
    "        axs[i].set_ylabel('')\n",
    "    else:\n",
    "        axs[i].set_ylabel('insurance charges')\n",
    "\n",
    "    if i == 4:\n",
    "        axs[4].plot(lambda_, e_val, label='model 1', color='red')\n",
    "        axs[4].plot(lambda_, e_val2, label='model 2', color='blue')\n",
    "        pos = list(lambda_).index(best_lambda)\n",
    "        val = e_val[pos]\n",
    "        axs[4].plot(best_lambda, val, 'x')\n",
    "        axs[4].set_xscale('log')\n",
    "        axs[4].set_title('Validation error')\n",
    "        axs[4].set_xlabel('Lambda')\n",
    "        axs[4].set_ylabel('')\n",
    "        axs[4].tick_params(axis=\"y\", direction=\"in\", pad=-50)\n",
    "\n",
    "    axs[i].legend()"
   ]
  },
  {
   "cell_type": "markdown",
   "metadata": {},
   "source": [
    "#### Regression with pre-processing:"
   ]
  },
  {
   "cell_type": "markdown",
   "metadata": {},
   "source": [
    "##### Charges below \\$10'000:"
   ]
  },
  {
   "cell_type": "code",
   "execution_count": null,
   "metadata": {},
   "outputs": [],
   "source": [
    "X_train = df_train[df_train['charges'] <= 1e4]\n",
    "X_test = df_test[df_test['charges'] <= 1e4]\n",
    "y_train_ = np.expand_dims(X_train['charges'], 1)\n",
    "y_test_ = np.expand_dims(X_test['charges'], 1)\n",
    "\n",
    "# Cross-validation:\n",
    "best_lambda, best_theta, best_value, e_val = cross_validation(\n",
    "    X_train[['age', 'bias']].values, X_test[['age', 'bias']].values, y_train_,\n",
    "    y_test_)"
   ]
  },
  {
   "cell_type": "code",
   "execution_count": null,
   "metadata": {},
   "outputs": [],
   "source": [
    "x_train = X_train[['age', 'bias']].values\n",
    "x_test = X_test[['age', 'bias']].values\n",
    "\n",
    "ypred = []\n",
    "for i in range(len(x_train)):\n",
    "    ypred.append(best_theta @ x_train[i, :])"
   ]
  },
  {
   "cell_type": "code",
   "execution_count": null,
   "metadata": {},
   "outputs": [],
   "source": [
    "fig, axs = plt.subplots(1,5, figsize = (25, 8))\n",
    "lambda_ = np.logspace(-5, -1, 20, base = 10)\n",
    "\n",
    "hues = ['sex', 'smoker', 'region', 'children']\n",
    "for i in range(len(hues)+1): \n",
    "    if i < 4: \n",
    "        axs[i].set_title(f'{hues[i]}')\n",
    "        axs[i].plot(X_train['age'], ypred, color='red')\n",
    "        sns.scatterplot(data = X_train, x  = 'age', y= 'charges', hue = hues[i], ax = axs[i])\n",
    "        axs[i].set_xlabel('age')\n",
    "        axs[i].ticklabel_format(axis='y', style='sci', scilimits=(0, 0)) \n",
    "    \n",
    "    if i >0:\n",
    "        axs[i].set_ylabel('')\n",
    "    else:\n",
    "        axs[i].set_ylabel('insurance charges')\n",
    "    \n",
    "    if i == 4:\n",
    "        axs[4].plot(lambda_, e_val)\n",
    "        pos = list(lambda_).index(best_lambda)\n",
    "        val = e_val[pos]\n",
    "        axs[4].plot(best_lambda, val, 'x')\n",
    "        axs[4].set_xscale('log')\n",
    "        axs[4].set_title('Validation error')\n",
    "        axs[4].set_xlabel('Lambda')\n",
    "        axs[4].set_ylabel('')\n",
    "        axs[4].tick_params(axis=\"y\",direction=\"in\", pad=-50)\n",
    "        \n",
    "    axs[i].legend()"
   ]
  },
  {
   "cell_type": "markdown",
   "metadata": {},
   "source": [
    "##### Smokers and non-smokers:"
   ]
  },
  {
   "cell_type": "code",
   "execution_count": null,
   "metadata": {},
   "outputs": [],
   "source": [
    "# Data for non smokers:\n",
    "X_train_no = df_train[df_train['smoker'] == 'no']\n",
    "X_test_no = df_test[df_test['smoker'] == 'no']\n",
    "y_train_no = np.expand_dims(X_train_no['charges'], 1)\n",
    "y_test_no = np.expand_dims(X_test_no['charges'], 1)\n",
    "\n",
    "# Cross-validation:\n",
    "best_lambda_no, best_theta_no, best_value_no, e_val_no = cross_validation(\n",
    "    X_train_no[['bmi', 'bias']].values, X_test_no[['bmi', 'bias']].values,\n",
    "    y_train_no, y_test_no)"
   ]
  },
  {
   "cell_type": "code",
   "execution_count": null,
   "metadata": {},
   "outputs": [],
   "source": [
    "# Data for smokers:\n",
    "X_train_yes = df_train[df_train['smoker'] == 'yes']\n",
    "X_test_yes = df_test[df_test['smoker'] == 'yes']\n",
    "y_train_yes = np.expand_dims(X_train_yes['charges'], 1)\n",
    "y_test_yes = np.expand_dims(X_test_yes['charges'], 1)\n",
    "\n",
    "# Cross-validation:\n",
    "best_lambda_yes, best_theta_yes, best_value_yes, e_val_yes = cross_validation(\n",
    "    X_train_yes[['bmi', 'bias']].values, X_test_yes[['bmi', 'bias']].values,\n",
    "    y_train_yes, y_test_yes)"
   ]
  },
  {
   "cell_type": "code",
   "execution_count": null,
   "metadata": {},
   "outputs": [],
   "source": [
    "x_train_yes = X_train_yes[['bmi', 'bias']].values\n",
    "x_test_yes = X_test_yes[['bmi', 'bias']].values\n",
    "\n",
    "x_train_no = X_train_no [['bmi', 'bias']].values\n",
    "x_test_no = X_test_no [['bmi', 'bias']].values\n",
    "\n",
    "ypred_yes, ypred_no = [], []\n",
    "for i in range(len(x_train_yes)):\n",
    "    ypred_yes.append(best_theta_yes @ x_train_yes[i, :])\n",
    "    \n",
    "for i in range(len(x_train_no)):\n",
    "    ypred_no.append(best_theta_no @ x_train_no[i, :])"
   ]
  },
  {
   "cell_type": "code",
   "execution_count": null,
   "metadata": {},
   "outputs": [],
   "source": [
    "fig, axs = plt.subplots(1,3, figsize = (25, 8))\n",
    "#plt.suptitle('Insurance charges depending on bmi')\n",
    "lambda_ = np.logspace(-5, -1, 20, base = 10)\n",
    "\n",
    "hues = ['smoker', 'smoker']\n",
    "for i in range(3): \n",
    "    if i == 0: \n",
    "        axs[i].set_title(f'{hues[i]}')\n",
    "        axs[i].plot(X_train_yes['bmi'], ypred_yes, color='red')\n",
    "        sns.scatterplot(data = X_train_yes, x  = 'bmi', y= 'charges', hue = hues[i], ax = axs[i])\n",
    "        axs[i].set_xlabel('bmi')\n",
    "        axs[i].ticklabel_format(axis='y', style='sci', scilimits=(0, 0)) \n",
    "    if i == 1: \n",
    "        axs[i].set_title(f'Non {hues[i]}')\n",
    "        axs[i].plot(X_train_no['bmi'], ypred_no, color='red')\n",
    "        sns.scatterplot(data = X_train_no, x  = 'bmi', y= 'charges', hue = hues[i], ax = axs[i])\n",
    "        axs[i].set_xlabel('bmi')\n",
    "        axs[i].ticklabel_format(axis='y', style='sci', scilimits=(0, 0)) \n",
    "    \n",
    "    if i >0:\n",
    "        axs[i].set_ylabel('')\n",
    "    else:\n",
    "        axs[i].set_ylabel('insurance charges')\n",
    "    \n",
    "    if i == 2:\n",
    "        axs[i].plot(lambda_, e_val_yes, label = 'smokes')\n",
    "        axs[i].plot(lambda_, e_val_no, label = 'doesn\\'t smoke')\n",
    "        \n",
    "        pos = list(lambda_).index(best_lambda_yes)\n",
    "        val_yes = e_val_yes[pos]\n",
    "        axs[i].plot(best_lambda_yes, val_yes, 'x')\n",
    "        \n",
    "        pos = list(lambda_).index(best_lambda_no)\n",
    "        val_no = e_val_no[pos]\n",
    "        axs[i].plot(best_lambda_no, val_no, 'x')\n",
    "        \n",
    "        axs[i].set_xscale('log')\n",
    "        axs[i].set_title('Validation error')\n",
    "        axs[i].set_xlabel('Lambda')\n",
    "        axs[i].set_ylabel('')\n",
    "        axs[i].tick_params(axis=\"y\",direction=\"in\", pad=-50)\n",
    "        \n",
    "    axs[i].legend()\n"
   ]
  },
  {
   "cell_type": "code",
   "execution_count": null,
   "metadata": {},
   "outputs": [],
   "source": []
  }
 ],
 "metadata": {
  "kernelspec": {
   "display_name": "Python 3",
   "language": "python",
   "name": "python3"
  },
  "language_info": {
   "codemirror_mode": {
    "name": "ipython",
    "version": 3
   },
   "file_extension": ".py",
   "mimetype": "text/x-python",
   "name": "python",
   "nbconvert_exporter": "python",
   "pygments_lexer": "ipython3",
   "version": "3.7.3"
  },
  "toc": {
   "base_numbering": 1,
   "nav_menu": {},
   "number_sections": true,
   "sideBar": true,
   "skip_h1_title": false,
   "title_cell": "Table of Contents",
   "title_sidebar": "Contents",
   "toc_cell": false,
   "toc_position": {},
   "toc_section_display": true,
   "toc_window_display": true
  }
 },
 "nbformat": 4,
 "nbformat_minor": 4
}
